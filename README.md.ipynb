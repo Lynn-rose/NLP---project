{
 "cells": [
  {
   "cell_type": "markdown",
   "metadata": {},
   "source": [
    "# Tweet Sentiment Analysis\n",
    "\n",
    "![TWEET](https://github.com/Lynn-rose/phase-3-project/blob/main/images/WhatsApp%20Image%202024-06-06%20at%209.42.13%20AM.jpeg)\n",
    "\n",
    "## BUSINESS UNDERSTANDING\n",
    "### Introduction\n",
    "Apple and Google have been constantly innovating and changing their products, services, and customer experiences. This has led to a surge in customer feedback and a need for companies to analyze and understand the sentiments expressed by their users. Tweets provide a unique platform for companies to gather feedback and respond to their customers, which can be a valuable resource for understanding consumer behavior and making data-driven decisions. This project aims to analyze the sentiments expressed in tweets about Apple and Google products."
   ]
  },
  {
   "cell_type": "markdown",
   "metadata": {},
   "source": [
    "## Problem Statement\n",
    "Accurately classifying the sentiments expressed in tweets about topics or brands into specific classes- positive, negative or neutral is a huge challenge for companies like Apple and Google. Given the diverse nature of informal data, with its use of slang, abbreviations, coming up with a reliable sentiment analysis model that can effectively interpret and classify the tweets can be a complex task. Getting this task right provides a wide variety of novel information for a company like Apple by providing insights and creating better understanding overall of how consumers interact with products/brands."
   ]
  },
  {
   "cell_type": "markdown",
   "metadata": {},
   "source": [
    "## Data Understanding\n",
    "Contributors evaluated tweets about multiple brands and products. The crowd was asked if the tweet expressed positive, negative, or no emotion towards a brand and/or product. If some emotion was expressed they were also asked to say which brand or product was the target of that emotion.\n",
    "\n",
    "The dataset contains the following columns:\n",
    "\n",
    "1. 'tweet_text' column: Contains the text of the tweet.\n",
    "2. 'emotion_in_tweet_is_directed_at' column: Contains the person or entity or brand that the tweet is directed at.\n",
    "3. 'is_there_an_emotion_directed_at_a_brand_or_product' column: Indicates the kind of emotion in the tweet directed at the brand or product\n",
    "\n",
    "The dataset has a total of 9093 data points."
   ]
  },
  {
   "cell_type": "markdown",
   "metadata": {},
   "source": [
    "## Objective\n",
    "To build a model that can rate the sentiment of a tweet based on its content."
   ]
  },
  {
   "cell_type": "markdown",
   "metadata": {},
   "source": [
    "## Data Preprocessing\n",
    "The following steps were taken in the preparation of the data ready for modelling.\n",
    "\n",
    "1. Data Cleaning: Selected relevant columns, handled missing values by replacing the nan values with a placeholder.\n",
    "\n",
    "2. Tokenisation: It is done to break down the text into smaller units like sentences or words, depending on the task.\n",
    "\n",
    "3. Removing Stop Words: Stop words are often removed during pre-processing because they can add noise to the data\n",
    "\n",
    "4. Lemmatization: Lemmatization is generally preferred for tasks where preserving the word's meaning and part of speech is crucial\n",
    "\n",
    "5. Train-Test Split: Split the dataset into training (80%) and testing (20%) sets.\n",
    "\n"
   ]
  },
  {
   "cell_type": "markdown",
   "metadata": {},
   "source": [
    "## Modeling\n",
    "The following models were used during the developing of a machine learning model that can predict sentiments expressed in tweets about topics or brands into specific classes- positive, negative or neutral is a huge challenge for companies like Apple and Google. Naive Bayes,Logistic Regression, Decision Tree, and Deep Learning models\n",
    "\n",
    "1. Logistic Regression\n",
    "2. Decision Tree Classifier\n",
    "3. Naive Bayes model\n",
    "4. Support Vector Classifier\n",
    "5. Deep Learning models:\n",
    "\n",
    "    * CNN (Convolutional Neural Network)\n",
    "    * GRU (Gated Recurrent Unit)\n",
    "    * LSTM (Long Short-Term Memory)"
   ]
  },
  {
   "cell_type": "markdown",
   "metadata": {},
   "source": [
    "## Evaluation\n",
    "In this project, multiple evaluation metrics were used to assess the performance of different models in predicting emotions for different tweets. These metrics provided insights into the accuracy, precision, recall, and overall predictive power of the models.\n",
    "\n",
    "1. Accuracy Definition: The proportion of true results (both true positives and true negatives) among the total number of cases examined.\n",
    "\n",
    "2. Precision Definition: The proportion of positive identifications that were actually correct.\n",
    "\n",
    "3. Recall (Sensitivity) Definition: The proportion of actual positives that were correctly identified.\n",
    "\n",
    "4. F1-Score Definition: The harmonic mean of precision and recall, providing a balance between the two metrics.\n",
    "\n",
    "5. Confusion Matrix Definition: A table used to describe the performance of a classification model, showing the actual vs. predicted classifications."
   ]
  },
  {
   "cell_type": "markdown",
   "metadata": {},
   "source": [
    "## Conlusion\n",
    "Based on the evaluation metrics (accuracy, classification reports), the Support Vector Classifier outperformed other models with the highest test accuracy. This model was selected as the final model for predicting emotions.The following are the results of the metrics used during the modeling:\n",
    "\n",
    "Support Vector Classifier\n",
    "\n",
    "Train Accuracy: 0.88\n",
    "\n",
    "Test Accuracy: 0.72\n",
    "\n",
    "This model can help target entities identify emotions whether positive negative or neutral."
   ]
  },
  {
   "cell_type": "markdown",
   "metadata": {},
   "source": [
    " ## For More Information  \n",
    "Please review my full analysis in my [Jupyter Notebook](https://github.com/Lynn-rose/phase-3-project/blob/main/index.ipynb) or my [Presentation](https://github.com/Lynn-rose/phase-3-project/blob/main/Predicting%20H1N1%20Vaccine%20Uptake.pdf)\n",
    "\n",
    "For any additional questions, please contact Lynn Rose Achieng, lynn90952@gmail.com"
   ]
  },
  {
   "cell_type": "code",
   "execution_count": null,
   "metadata": {},
   "outputs": [],
   "source": []
  }
 ],
 "metadata": {
  "kernelspec": {
   "display_name": "Python (learn-env)",
   "language": "python",
   "name": "learn-env"
  },
  "language_info": {
   "codemirror_mode": {
    "name": "ipython",
    "version": 3
   },
   "file_extension": ".py",
   "mimetype": "text/x-python",
   "name": "python",
   "nbconvert_exporter": "python",
   "pygments_lexer": "ipython3",
   "version": "3.11.5"
  }
 },
 "nbformat": 4,
 "nbformat_minor": 4
}
